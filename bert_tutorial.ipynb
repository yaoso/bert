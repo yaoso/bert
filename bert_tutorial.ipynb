{
 "cells": [
  {
   "cell_type": "markdown",
   "id": "95b91337",
   "metadata": {},
   "source": [
    "refer to \n",
    "* https://colab.research.google.com/github/google-research/bert/blob/master/predicting_movie_reviews_with_bert_on_tf_hub.ipynb#scrollTo=dsBo6RCtQmwx"
   ]
  },
  {
   "cell_type": "code",
   "execution_count": 1,
   "id": "fa77f198",
   "metadata": {},
   "outputs": [
    {
     "name": "stderr",
     "output_type": "stream",
     "text": [
      "2022-06-30 12:42:06.665239: W tensorflow/stream_executor/platform/default/dso_loader.cc:64] Could not load dynamic library 'libcudart.so.11.0'; dlerror: libcudart.so.11.0: cannot open shared object file: No such file or directory; LD_LIBRARY_PATH: :/usr/local/lib\n",
      "2022-06-30 12:42:06.665284: I tensorflow/stream_executor/cuda/cudart_stub.cc:29] Ignore above cudart dlerror if you do not have a GPU set up on your machine.\n"
     ]
    }
   ],
   "source": [
    "import pandas as pd\n",
    "import tensorflow as tf"
   ]
  },
  {
   "cell_type": "code",
   "execution_count": 2,
   "id": "6ddc2ea8",
   "metadata": {},
   "outputs": [],
   "source": [
    "from tensorflow import keras\n",
    "import os\n",
    "import re"
   ]
  },
  {
   "cell_type": "code",
   "execution_count": 3,
   "id": "90b53956",
   "metadata": {},
   "outputs": [],
   "source": [
    "# Load all files from a directory in a DataFrame.\n",
    "def load_directory_data(directory):\n",
    "  data = {}\n",
    "  data[\"sentence\"] = []\n",
    "  data[\"sentiment\"] = []\n",
    "  for file_path in os.listdir(directory):\n",
    "    with tf.io.gfile.GFile(os.path.join(directory, file_path), \"r\") as f:\n",
    "      data[\"sentence\"].append(f.read())\n",
    "      data[\"sentiment\"].append(re.match(\"\\d+_(\\d+)\\.txt\", file_path).group(1))\n",
    "  return pd.DataFrame.from_dict(data)\n",
    "\n",
    "# Merge positive and negative examples, add a polarity column and shuffle.\n",
    "def load_dataset(directory):\n",
    "  pos_df = load_directory_data(os.path.join(directory, \"pos\"))\n",
    "  neg_df = load_directory_data(os.path.join(directory, \"neg\"))\n",
    "  pos_df[\"polarity\"] = 1\n",
    "  neg_df[\"polarity\"] = 0\n",
    "  return pd.concat([pos_df, neg_df]).sample(frac=1).reset_index(drop=True)\n",
    "\n",
    "# Download and process the dataset files.\n",
    "def download_and_load_datasets(force_download=False):\n",
    "  dataset = tf.keras.utils.get_file(\n",
    "      fname=\"aclImdb.tar.gz\", \n",
    "      origin=\"http://ai.stanford.edu/~amaas/data/sentiment/aclImdb_v1.tar.gz\", \n",
    "      extract=True)\n",
    "  \n",
    "  train_df = load_dataset(os.path.join(os.path.dirname(dataset), \n",
    "                                       \"aclImdb\", \"train\"))\n",
    "  test_df = load_dataset(os.path.join(os.path.dirname(dataset), \n",
    "                                      \"aclImdb\", \"test\"))\n",
    "  \n",
    "  return train_df, test_df\n"
   ]
  },
  {
   "cell_type": "code",
   "execution_count": 4,
   "id": "220cb4a3",
   "metadata": {},
   "outputs": [],
   "source": [
    "train, test = download_and_load_datasets()"
   ]
  },
  {
   "cell_type": "code",
   "execution_count": 5,
   "id": "836fad86",
   "metadata": {},
   "outputs": [
    {
     "data": {
      "text/plain": [
       "(25000, 3)"
      ]
     },
     "execution_count": 5,
     "metadata": {},
     "output_type": "execute_result"
    }
   ],
   "source": [
    "train.shape"
   ]
  },
  {
   "cell_type": "code",
   "execution_count": 6,
   "id": "b949f722",
   "metadata": {},
   "outputs": [
    {
     "data": {
      "text/html": [
       "<div>\n",
       "<style scoped>\n",
       "    .dataframe tbody tr th:only-of-type {\n",
       "        vertical-align: middle;\n",
       "    }\n",
       "\n",
       "    .dataframe tbody tr th {\n",
       "        vertical-align: top;\n",
       "    }\n",
       "\n",
       "    .dataframe thead th {\n",
       "        text-align: right;\n",
       "    }\n",
       "</style>\n",
       "<table border=\"1\" class=\"dataframe\">\n",
       "  <thead>\n",
       "    <tr style=\"text-align: right;\">\n",
       "      <th></th>\n",
       "      <th>sentence</th>\n",
       "      <th>sentiment</th>\n",
       "      <th>polarity</th>\n",
       "    </tr>\n",
       "  </thead>\n",
       "  <tbody>\n",
       "    <tr>\n",
       "      <th>0</th>\n",
       "      <td>This movie has one of the cheesiest plots I ha...</td>\n",
       "      <td>10</td>\n",
       "      <td>1</td>\n",
       "    </tr>\n",
       "    <tr>\n",
       "      <th>1</th>\n",
       "      <td>I really liked this movie...it was cute. I enj...</td>\n",
       "      <td>8</td>\n",
       "      <td>1</td>\n",
       "    </tr>\n",
       "    <tr>\n",
       "      <th>2</th>\n",
       "      <td>The Legend of Bloody Jack is set in the Alaska...</td>\n",
       "      <td>3</td>\n",
       "      <td>0</td>\n",
       "    </tr>\n",
       "    <tr>\n",
       "      <th>3</th>\n",
       "      <td>This is the worst movie I have ever seen. I wa...</td>\n",
       "      <td>1</td>\n",
       "      <td>0</td>\n",
       "    </tr>\n",
       "    <tr>\n",
       "      <th>4</th>\n",
       "      <td>This movie seemed like it was going to be bett...</td>\n",
       "      <td>2</td>\n",
       "      <td>0</td>\n",
       "    </tr>\n",
       "  </tbody>\n",
       "</table>\n",
       "</div>"
      ],
      "text/plain": [
       "                                            sentence sentiment  polarity\n",
       "0  This movie has one of the cheesiest plots I ha...        10         1\n",
       "1  I really liked this movie...it was cute. I enj...         8         1\n",
       "2  The Legend of Bloody Jack is set in the Alaska...         3         0\n",
       "3  This is the worst movie I have ever seen. I wa...         1         0\n",
       "4  This movie seemed like it was going to be bett...         2         0"
      ]
     },
     "execution_count": 6,
     "metadata": {},
     "output_type": "execute_result"
    }
   ],
   "source": [
    "train.head()"
   ]
  },
  {
   "cell_type": "code",
   "execution_count": 7,
   "id": "35d87979",
   "metadata": {},
   "outputs": [],
   "source": [
    "DATA_COLUMN = 'sentence'\n",
    "LABEL_COLUMN = 'polarity'\n",
    "# label_list is the list of labels, i.e. True, False or 0, 1 or 'dog', 'cat'\n",
    "label_list = [0, 1]"
   ]
  },
  {
   "cell_type": "code",
   "execution_count": 8,
   "id": "3a2c3cf5",
   "metadata": {},
   "outputs": [],
   "source": [
    "import tokenization"
   ]
  },
  {
   "cell_type": "code",
   "execution_count": 9,
   "id": "6a73bd0e",
   "metadata": {},
   "outputs": [],
   "source": [
    "tokenizer = tokenization.FullTokenizer(\n",
    "      vocab_file=\"../vocab.txt\")  # 中文BERT以字为最终的token"
   ]
  },
  {
   "cell_type": "code",
   "execution_count": 10,
   "id": "78d572ba",
   "metadata": {},
   "outputs": [
    {
     "data": {
      "text/plain": [
       "['w', '##os', '##hs', '##sd', '##fs', '##f', '##d']"
      ]
     },
     "execution_count": 10,
     "metadata": {},
     "output_type": "execute_result"
    }
   ],
   "source": [
    "tokenizer.tokenize('woshssDfsfd')"
   ]
  },
  {
   "cell_type": "code",
   "execution_count": 11,
   "id": "45f560a6",
   "metadata": {},
   "outputs": [
    {
     "data": {
      "text/plain": [
       "['w', '##os', '##hs', '##sd', '##fs', '##f', '##d']"
      ]
     },
     "execution_count": 11,
     "metadata": {},
     "output_type": "execute_result"
    }
   ],
   "source": [
    "tokenizer.tokenize('woshssdfsfd')"
   ]
  },
  {
   "cell_type": "code",
   "execution_count": 50,
   "id": "35c6d5c9",
   "metadata": {},
   "outputs": [
    {
     "data": {
      "text/plain": [
       "list"
      ]
     },
     "execution_count": 50,
     "metadata": {},
     "output_type": "execute_result"
    }
   ],
   "source": [
    "type(tokenizer.tokenize('大美边疆'))"
   ]
  },
  {
   "cell_type": "code",
   "execution_count": 13,
   "id": "61519edf",
   "metadata": {},
   "outputs": [
    {
     "data": {
      "text/plain": [
       "['哎', '呦', '喂', 'hello', '##d']"
      ]
     },
     "execution_count": 13,
     "metadata": {},
     "output_type": "execute_result"
    }
   ],
   "source": [
    "tokenizer.tokenize('哎呦喂hellod')"
   ]
  },
  {
   "cell_type": "code",
   "execution_count": 14,
   "id": "a00faece",
   "metadata": {},
   "outputs": [],
   "source": [
    "from transformers import BertTokenizer"
   ]
  },
  {
   "cell_type": "code",
   "execution_count": 15,
   "id": "4a5b43b1",
   "metadata": {},
   "outputs": [],
   "source": [
    "hf_tokenizer = BertTokenizer.from_pretrained(\"bert-base-chinese\")"
   ]
  },
  {
   "cell_type": "code",
   "execution_count": 16,
   "id": "3c161db7",
   "metadata": {},
   "outputs": [
    {
     "data": {
      "text/plain": [
       "['哎', '呦', '喂', 'hello', '##d']"
      ]
     },
     "execution_count": 16,
     "metadata": {},
     "output_type": "execute_result"
    }
   ],
   "source": [
    "hf_tokenizer.tokenize(\"哎呦喂hellod\")"
   ]
  },
  {
   "cell_type": "code",
   "execution_count": 17,
   "id": "bb463b36",
   "metadata": {},
   "outputs": [
    {
     "data": {
      "text/plain": [
       "['大', '美', '边', '疆']"
      ]
     },
     "execution_count": 17,
     "metadata": {},
     "output_type": "execute_result"
    }
   ],
   "source": [
    "hf_tokenizer.tokenize(\"大美边疆\")"
   ]
  },
  {
   "cell_type": "code",
   "execution_count": 18,
   "id": "c5d1a0a2",
   "metadata": {},
   "outputs": [
    {
     "data": {
      "text/plain": [
       "21128"
      ]
     },
     "execution_count": 18,
     "metadata": {},
     "output_type": "execute_result"
    }
   ],
   "source": [
    "hf_tokenizer.vocab_size"
   ]
  },
  {
   "cell_type": "code",
   "execution_count": 19,
   "id": "5f7f009b",
   "metadata": {},
   "outputs": [],
   "source": [
    "import re\n",
    "# 句子分割, sentence segmentation\n",
    "# https://stackoverflow.com/questions/27441191/splitting-chinese-document-into-sentences\n",
    "\n",
    "def zng(paragraph):\n",
    "    for sent in re.findall(u'[^!?。\\.\\!\\?]+[!?。\\.\\!\\?]?', paragraph, flags=re.U):\n",
    "        yield sent\n",
    "\n",
    "# list(zng(paragraph))"
   ]
  },
  {
   "cell_type": "code",
   "execution_count": 44,
   "id": "08a72726",
   "metadata": {},
   "outputs": [],
   "source": [
    "paragraph = \"比尔刚刚年满29岁，在此前结束的赛季中，受伤病困扰，他场均只得到23.2分4.7篮板6.6助攻。而在此之前的两个赛季中，他的场均得分均在30分以上。\""
   ]
  },
  {
   "cell_type": "code",
   "execution_count": 45,
   "id": "b0968938",
   "metadata": {},
   "outputs": [
    {
     "name": "stdout",
     "output_type": "stream",
     "text": [
      "比尔刚刚年满29岁，在此前结束的赛季中，受伤病困扰，他场均只得到23.2分4.7篮板6.6助攻。而在此之前的两个赛季中，他的场均得分均在30分以上。\n"
     ]
    }
   ],
   "source": [
    "print(paragraph)"
   ]
  },
  {
   "cell_type": "code",
   "execution_count": 46,
   "id": "2cf237a2",
   "metadata": {},
   "outputs": [
    {
     "data": {
      "text/plain": [
       "['比尔刚刚年满29岁，在此前结束的赛季中，受伤病困扰，他场均只得到23.',\n",
       " '2分4.',\n",
       " '7篮板6.',\n",
       " '6助攻。',\n",
       " '而在此之前的两个赛季中，他的场均得分均在30分以上。']"
      ]
     },
     "execution_count": 46,
     "metadata": {},
     "output_type": "execute_result"
    }
   ],
   "source": [
    "list(zng(paragraph))"
   ]
  },
  {
   "cell_type": "code",
   "execution_count": 29,
   "id": "00844be0",
   "metadata": {
    "scrolled": true
   },
   "outputs": [
    {
     "name": "stdout",
     "output_type": "stream",
     "text": [
      "Defaulting to user installation because normal site-packages is not writeable\n",
      "Collecting spacy\n",
      "  Downloading spacy-3.3.1-cp38-cp38-manylinux_2_17_x86_64.manylinux2014_x86_64.whl (6.5 MB)\n",
      "\u001b[2K     \u001b[90m━━━━━━━━━━━━━━━━━━━━━━━━━━━━━━━━━━━━━━━━\u001b[0m \u001b[32m6.5/6.5 MB\u001b[0m \u001b[31m77.5 MB/s\u001b[0m eta \u001b[36m0:00:00\u001b[0m:00:01\u001b[0m00:01\u001b[0m\n",
      "\u001b[?25hCollecting spacy-loggers<2.0.0,>=1.0.0\n",
      "  Downloading spacy_loggers-1.0.2-py3-none-any.whl (7.2 kB)\n",
      "Collecting preshed<3.1.0,>=3.0.2\n",
      "  Downloading preshed-3.0.6-cp38-cp38-manylinux_2_5_x86_64.manylinux1_x86_64.manylinux_2_17_x86_64.manylinux2014_x86_64.whl (130 kB)\n",
      "\u001b[2K     \u001b[90m━━━━━━━━━━━━━━━━━━━━━━━━━━━━━━━━━━━━━━\u001b[0m \u001b[32m130.1/130.1 kB\u001b[0m \u001b[31m25.6 MB/s\u001b[0m eta \u001b[36m0:00:00\u001b[0m\n",
      "\u001b[?25hCollecting blis<0.8.0,>=0.4.0\n",
      "  Downloading blis-0.7.8-cp38-cp38-manylinux_2_17_x86_64.manylinux2014_x86_64.whl (10.2 MB)\n",
      "\u001b[2K     \u001b[90m━━━━━━━━━━━━━━━━━━━━━━━━━━━━━━━━━━━━━━━\u001b[0m \u001b[32m10.2/10.2 MB\u001b[0m \u001b[31m116.3 MB/s\u001b[0m eta \u001b[36m0:00:00\u001b[0m00:01\u001b[0m00:01\u001b[0m\n",
      "\u001b[?25hCollecting thinc<8.1.0,>=8.0.14\n",
      "  Downloading thinc-8.0.17-cp38-cp38-manylinux_2_17_x86_64.manylinux2014_x86_64.whl (671 kB)\n",
      "\u001b[2K     \u001b[90m━━━━━━━━━━━━━━━━━━━━━━━━━━━━━━━━━━━━━━\u001b[0m \u001b[32m671.1/671.1 kB\u001b[0m \u001b[31m72.5 MB/s\u001b[0m eta \u001b[36m0:00:00\u001b[0m\n",
      "\u001b[?25hRequirement already satisfied: setuptools in /usr/local/lib/python3.8/dist-packages (from spacy) (62.3.2)\n",
      "Collecting pydantic!=1.8,!=1.8.1,<1.9.0,>=1.7.4\n",
      "  Downloading pydantic-1.8.2-cp38-cp38-manylinux2014_x86_64.whl (13.7 MB)\n",
      "\u001b[2K     \u001b[90m━━━━━━━━━━━━━━━━━━━━━━━━━━━━━━━━━━━━━━━\u001b[0m \u001b[32m13.7/13.7 MB\u001b[0m \u001b[31m101.0 MB/s\u001b[0m eta \u001b[36m0:00:00\u001b[0m00:01\u001b[0m00:01\u001b[0m\n",
      "\u001b[?25hRequirement already satisfied: requests<3.0.0,>=2.13.0 in /usr/local/lib/python3.8/dist-packages (from spacy) (2.27.1)\n",
      "Collecting murmurhash<1.1.0,>=0.28.0\n",
      "  Downloading murmurhash-1.0.7-cp38-cp38-manylinux_2_5_x86_64.manylinux1_x86_64.manylinux_2_17_x86_64.manylinux2014_x86_64.whl (21 kB)\n",
      "Collecting typer<0.5.0,>=0.3.0\n",
      "  Downloading typer-0.4.1-py3-none-any.whl (27 kB)\n",
      "Requirement already satisfied: tqdm<5.0.0,>=4.38.0 in /home/lj/.local/lib/python3.8/site-packages (from spacy) (4.64.0)\n",
      "Collecting srsly<3.0.0,>=2.4.3\n",
      "  Downloading srsly-2.4.3-cp38-cp38-manylinux_2_17_x86_64.manylinux2014_x86_64.whl (459 kB)\n",
      "\u001b[2K     \u001b[90m━━━━━━━━━━━━━━━━━━━━━━━━━━━━━━━━━━━━━━\u001b[0m \u001b[32m459.7/459.7 kB\u001b[0m \u001b[31m52.8 MB/s\u001b[0m eta \u001b[36m0:00:00\u001b[0m\n",
      "\u001b[?25hRequirement already satisfied: jinja2 in /home/lj/.local/lib/python3.8/site-packages (from spacy) (3.1.2)\n",
      "Collecting wasabi<1.1.0,>=0.9.1\n",
      "  Downloading wasabi-0.9.1-py3-none-any.whl (26 kB)\n",
      "Requirement already satisfied: numpy>=1.15.0 in /home/lj/.local/lib/python3.8/site-packages (from spacy) (1.23.0)\n",
      "Collecting cymem<2.1.0,>=2.0.2\n",
      "  Downloading cymem-2.0.6-cp38-cp38-manylinux_2_17_x86_64.manylinux2014_x86_64.whl (36 kB)\n",
      "Collecting catalogue<2.1.0,>=2.0.6\n",
      "  Downloading catalogue-2.0.7-py3-none-any.whl (17 kB)\n",
      "Collecting langcodes<4.0.0,>=3.2.0\n",
      "  Downloading langcodes-3.3.0-py3-none-any.whl (181 kB)\n",
      "\u001b[2K     \u001b[90m━━━━━━━━━━━━━━━━━━━━━━━━━━━━━━━━━━━━━━\u001b[0m \u001b[32m181.6/181.6 kB\u001b[0m \u001b[31m30.7 MB/s\u001b[0m eta \u001b[36m0:00:00\u001b[0m\n",
      "\u001b[?25hCollecting spacy-legacy<3.1.0,>=3.0.9\n",
      "  Downloading spacy_legacy-3.0.9-py2.py3-none-any.whl (20 kB)\n",
      "Collecting pathy>=0.3.5\n",
      "  Downloading pathy-0.6.2-py3-none-any.whl (42 kB)\n",
      "\u001b[2K     \u001b[90m━━━━━━━━━━━━━━━━━━━━━━━━━━━━━━━━━━━━━━━━\u001b[0m \u001b[32m42.8/42.8 kB\u001b[0m \u001b[31m9.5 MB/s\u001b[0m eta \u001b[36m0:00:00\u001b[0m\n",
      "\u001b[?25hRequirement already satisfied: packaging>=20.0 in /home/lj/.local/lib/python3.8/site-packages (from spacy) (21.3)\n",
      "Requirement already satisfied: pyparsing!=3.0.5,>=2.0.2 in /usr/lib/python3/dist-packages (from packaging>=20.0->spacy) (2.4.6)\n",
      "Collecting smart-open<6.0.0,>=5.2.1\n",
      "  Downloading smart_open-5.2.1-py3-none-any.whl (58 kB)\n",
      "\u001b[2K     \u001b[90m━━━━━━━━━━━━━━━━━━━━━━━━━━━━━━━━━━━━━━━━\u001b[0m \u001b[32m58.6/58.6 kB\u001b[0m \u001b[31m10.8 MB/s\u001b[0m eta \u001b[36m0:00:00\u001b[0m\n",
      "\u001b[?25hRequirement already satisfied: typing-extensions>=3.7.4.3 in /home/lj/.local/lib/python3.8/site-packages (from pydantic!=1.8,!=1.8.1,<1.9.0,>=1.7.4->spacy) (4.2.0)\n",
      "Requirement already satisfied: certifi>=2017.4.17 in /usr/lib/python3/dist-packages (from requests<3.0.0,>=2.13.0->spacy) (2019.11.28)\n",
      "Requirement already satisfied: urllib3<1.27,>=1.21.1 in /home/lj/.local/lib/python3.8/site-packages (from requests<3.0.0,>=2.13.0->spacy) (1.26.9)\n",
      "Requirement already satisfied: idna<4,>=2.5 in /usr/lib/python3/dist-packages (from requests<3.0.0,>=2.13.0->spacy) (2.8)\n",
      "Requirement already satisfied: charset-normalizer~=2.0.0 in /usr/local/lib/python3.8/dist-packages (from requests<3.0.0,>=2.13.0->spacy) (2.0.12)\n",
      "Collecting click<9.0.0,>=7.1.1\n",
      "  Downloading click-8.1.3-py3-none-any.whl (96 kB)\n",
      "\u001b[2K     \u001b[90m━━━━━━━━━━━━━━━━━━━━━━━━━━━━━━━━━━━━━━━━\u001b[0m \u001b[32m96.6/96.6 kB\u001b[0m \u001b[31m17.9 MB/s\u001b[0m eta \u001b[36m0:00:00\u001b[0m\n",
      "\u001b[?25hRequirement already satisfied: MarkupSafe>=2.0 in /home/lj/.local/lib/python3.8/site-packages (from jinja2->spacy) (2.0.1)\n",
      "Installing collected packages: wasabi, murmurhash, cymem, spacy-loggers, spacy-legacy, smart-open, pydantic, preshed, langcodes, click, catalogue, blis, typer, srsly, thinc, pathy, spacy\n",
      "Successfully installed blis-0.7.8 catalogue-2.0.7 click-8.1.3 cymem-2.0.6 langcodes-3.3.0 murmurhash-1.0.7 pathy-0.6.2 preshed-3.0.6 pydantic-1.8.2 smart-open-5.2.1 spacy-3.3.1 spacy-legacy-3.0.9 spacy-loggers-1.0.2 srsly-2.4.3 thinc-8.0.17 typer-0.4.1 wasabi-0.9.1\n"
     ]
    }
   ],
   "source": [
    "!pip3 install spacy"
   ]
  },
  {
   "cell_type": "markdown",
   "id": "0203c490",
   "metadata": {},
   "source": [
    "还是使用spacy的sentence recognizer，效果更好点"
   ]
  },
  {
   "cell_type": "code",
   "execution_count": 32,
   "id": "3b21de14",
   "metadata": {
    "scrolled": true
   },
   "outputs": [
    {
     "name": "stdout",
     "output_type": "stream",
     "text": [
      "2022-06-30 12:46:25.264839: W tensorflow/stream_executor/platform/default/dso_loader.cc:64] Could not load dynamic library 'libcudart.so.11.0'; dlerror: libcudart.so.11.0: cannot open shared object file: No such file or directory; LD_LIBRARY_PATH: :/usr/local/lib\n",
      "WARNING: Logging before InitGoogle() is written to STDERR\n",
      "I0000 00:00:1656564386.738417  564582 tpu_initializer_helper.cc:165] libtpu.so already in use by another process probably owned by another user. Run \"$ sudo lsof -w /dev/accel0\" to figure out which process is using the TPU. Not attempting to load libtpu.so in this process.\n",
      "Defaulting to user installation because normal site-packages is not writeable\n",
      "Collecting zh-core-web-md==3.3.0\n",
      "  Downloading https://github.com/explosion/spacy-models/releases/download/zh_core_web_md-3.3.0/zh_core_web_md-3.3.0-py3-none-any.whl (77.9 MB)\n",
      "\u001b[2K     \u001b[90m━━━━━━━━━━━━━━━━━━━━━━━━━━━━━━━━━━━━━━━━\u001b[0m \u001b[32m77.9/77.9 MB\u001b[0m \u001b[31m9.7 MB/s\u001b[0m eta \u001b[36m0:00:00\u001b[0m:00:01\u001b[0m00:01\u001b[0m\n",
      "\u001b[?25hCollecting spacy-pkuseg<0.1.0,>=0.0.27\n",
      "  Downloading spacy_pkuseg-0.0.30-cp38-cp38-manylinux_2_17_x86_64.manylinux2014_x86_64.whl (2.4 MB)\n",
      "\u001b[2K     \u001b[90m━━━━━━━━━━━━━━━━━━━━━━━━━━━━━━━━━━━━━━━━\u001b[0m \u001b[32m2.4/2.4 MB\u001b[0m \u001b[31m67.4 MB/s\u001b[0m eta \u001b[36m0:00:00\u001b[0m:00:01\u001b[0m\n",
      "\u001b[?25hRequirement already satisfied: spacy<3.4.0,>=3.3.0.dev0 in /home/lj/.local/lib/python3.8/site-packages (from zh-core-web-md==3.3.0) (3.3.1)\n",
      "Requirement already satisfied: pydantic!=1.8,!=1.8.1,<1.9.0,>=1.7.4 in /home/lj/.local/lib/python3.8/site-packages (from spacy<3.4.0,>=3.3.0.dev0->zh-core-web-md==3.3.0) (1.8.2)\n",
      "Requirement already satisfied: langcodes<4.0.0,>=3.2.0 in /home/lj/.local/lib/python3.8/site-packages (from spacy<3.4.0,>=3.3.0.dev0->zh-core-web-md==3.3.0) (3.3.0)\n",
      "Requirement already satisfied: wasabi<1.1.0,>=0.9.1 in /home/lj/.local/lib/python3.8/site-packages (from spacy<3.4.0,>=3.3.0.dev0->zh-core-web-md==3.3.0) (0.9.1)\n",
      "Requirement already satisfied: thinc<8.1.0,>=8.0.14 in /home/lj/.local/lib/python3.8/site-packages (from spacy<3.4.0,>=3.3.0.dev0->zh-core-web-md==3.3.0) (8.0.17)\n",
      "Requirement already satisfied: requests<3.0.0,>=2.13.0 in /usr/local/lib/python3.8/dist-packages (from spacy<3.4.0,>=3.3.0.dev0->zh-core-web-md==3.3.0) (2.27.1)\n",
      "Requirement already satisfied: numpy>=1.15.0 in /home/lj/.local/lib/python3.8/site-packages (from spacy<3.4.0,>=3.3.0.dev0->zh-core-web-md==3.3.0) (1.23.0)\n",
      "Requirement already satisfied: murmurhash<1.1.0,>=0.28.0 in /home/lj/.local/lib/python3.8/site-packages (from spacy<3.4.0,>=3.3.0.dev0->zh-core-web-md==3.3.0) (1.0.7)\n",
      "Requirement already satisfied: blis<0.8.0,>=0.4.0 in /home/lj/.local/lib/python3.8/site-packages (from spacy<3.4.0,>=3.3.0.dev0->zh-core-web-md==3.3.0) (0.7.8)\n",
      "Requirement already satisfied: srsly<3.0.0,>=2.4.3 in /home/lj/.local/lib/python3.8/site-packages (from spacy<3.4.0,>=3.3.0.dev0->zh-core-web-md==3.3.0) (2.4.3)\n",
      "Requirement already satisfied: jinja2 in /home/lj/.local/lib/python3.8/site-packages (from spacy<3.4.0,>=3.3.0.dev0->zh-core-web-md==3.3.0) (3.1.2)\n",
      "Requirement already satisfied: typer<0.5.0,>=0.3.0 in /home/lj/.local/lib/python3.8/site-packages (from spacy<3.4.0,>=3.3.0.dev0->zh-core-web-md==3.3.0) (0.4.1)\n",
      "Requirement already satisfied: catalogue<2.1.0,>=2.0.6 in /home/lj/.local/lib/python3.8/site-packages (from spacy<3.4.0,>=3.3.0.dev0->zh-core-web-md==3.3.0) (2.0.7)\n",
      "Requirement already satisfied: spacy-legacy<3.1.0,>=3.0.9 in /home/lj/.local/lib/python3.8/site-packages (from spacy<3.4.0,>=3.3.0.dev0->zh-core-web-md==3.3.0) (3.0.9)\n",
      "Requirement already satisfied: tqdm<5.0.0,>=4.38.0 in /home/lj/.local/lib/python3.8/site-packages (from spacy<3.4.0,>=3.3.0.dev0->zh-core-web-md==3.3.0) (4.64.0)\n",
      "Requirement already satisfied: cymem<2.1.0,>=2.0.2 in /home/lj/.local/lib/python3.8/site-packages (from spacy<3.4.0,>=3.3.0.dev0->zh-core-web-md==3.3.0) (2.0.6)\n",
      "Requirement already satisfied: preshed<3.1.0,>=3.0.2 in /home/lj/.local/lib/python3.8/site-packages (from spacy<3.4.0,>=3.3.0.dev0->zh-core-web-md==3.3.0) (3.0.6)\n",
      "Requirement already satisfied: packaging>=20.0 in /home/lj/.local/lib/python3.8/site-packages (from spacy<3.4.0,>=3.3.0.dev0->zh-core-web-md==3.3.0) (21.3)\n",
      "Requirement already satisfied: pathy>=0.3.5 in /home/lj/.local/lib/python3.8/site-packages (from spacy<3.4.0,>=3.3.0.dev0->zh-core-web-md==3.3.0) (0.6.2)\n",
      "Requirement already satisfied: setuptools in /usr/local/lib/python3.8/dist-packages (from spacy<3.4.0,>=3.3.0.dev0->zh-core-web-md==3.3.0) (62.3.2)\n",
      "Requirement already satisfied: spacy-loggers<2.0.0,>=1.0.0 in /home/lj/.local/lib/python3.8/site-packages (from spacy<3.4.0,>=3.3.0.dev0->zh-core-web-md==3.3.0) (1.0.2)\n",
      "Requirement already satisfied: cython>=0.25 in /usr/lib/python3/dist-packages (from spacy-pkuseg<0.1.0,>=0.0.27->zh-core-web-md==3.3.0) (0.29.14)\n",
      "Requirement already satisfied: pyparsing!=3.0.5,>=2.0.2 in /usr/lib/python3/dist-packages (from packaging>=20.0->spacy<3.4.0,>=3.3.0.dev0->zh-core-web-md==3.3.0) (2.4.6)\n",
      "Requirement already satisfied: smart-open<6.0.0,>=5.2.1 in /home/lj/.local/lib/python3.8/site-packages (from pathy>=0.3.5->spacy<3.4.0,>=3.3.0.dev0->zh-core-web-md==3.3.0) (5.2.1)\n",
      "Requirement already satisfied: typing-extensions>=3.7.4.3 in /home/lj/.local/lib/python3.8/site-packages (from pydantic!=1.8,!=1.8.1,<1.9.0,>=1.7.4->spacy<3.4.0,>=3.3.0.dev0->zh-core-web-md==3.3.0) (4.2.0)\n",
      "Requirement already satisfied: certifi>=2017.4.17 in /usr/lib/python3/dist-packages (from requests<3.0.0,>=2.13.0->spacy<3.4.0,>=3.3.0.dev0->zh-core-web-md==3.3.0) (2019.11.28)\n",
      "Requirement already satisfied: charset-normalizer~=2.0.0 in /usr/local/lib/python3.8/dist-packages (from requests<3.0.0,>=2.13.0->spacy<3.4.0,>=3.3.0.dev0->zh-core-web-md==3.3.0) (2.0.12)\n",
      "Requirement already satisfied: urllib3<1.27,>=1.21.1 in /home/lj/.local/lib/python3.8/site-packages (from requests<3.0.0,>=2.13.0->spacy<3.4.0,>=3.3.0.dev0->zh-core-web-md==3.3.0) (1.26.9)\n",
      "Requirement already satisfied: idna<4,>=2.5 in /usr/lib/python3/dist-packages (from requests<3.0.0,>=2.13.0->spacy<3.4.0,>=3.3.0.dev0->zh-core-web-md==3.3.0) (2.8)\n",
      "Requirement already satisfied: click<9.0.0,>=7.1.1 in /home/lj/.local/lib/python3.8/site-packages (from typer<0.5.0,>=0.3.0->spacy<3.4.0,>=3.3.0.dev0->zh-core-web-md==3.3.0) (8.1.3)\n",
      "Requirement already satisfied: MarkupSafe>=2.0 in /home/lj/.local/lib/python3.8/site-packages (from jinja2->spacy<3.4.0,>=3.3.0.dev0->zh-core-web-md==3.3.0) (2.0.1)\n",
      "Installing collected packages: spacy-pkuseg, zh-core-web-md\n",
      "Successfully installed spacy-pkuseg-0.0.30 zh-core-web-md-3.3.0\n",
      "\u001b[38;5;2m✔ Download and installation successful\u001b[0m\n",
      "You can now load the package via spacy.load('zh_core_web_md')\n"
     ]
    }
   ],
   "source": [
    "!python3 -m spacy download zh_core_web_md"
   ]
  },
  {
   "cell_type": "code",
   "execution_count": 33,
   "id": "529be07e",
   "metadata": {},
   "outputs": [],
   "source": [
    "import spacy\n",
    "\n",
    "nlp = spacy.load(\"zh_core_web_md\")"
   ]
  },
  {
   "cell_type": "code",
   "execution_count": 40,
   "id": "d7b57451",
   "metadata": {},
   "outputs": [],
   "source": [
    "# paragraph = \"取消“星号”标记，不会因此造成新冠传播风险的增加。“星号”标记仅仅提示某人来自有高风险区或中风险区的城市，并没有与具体的高风险区或中风险区直接挂钩，即不能反映“星号”标记者的实际风险高低。随着科学防控、精准施策的不断完善，对于高风险区/中风险区的划分和防控管理要求更加精细化、精准化，通信行程卡“星号”标记的提示作用，在新防控策略的具体实施中的难以发挥作用。\"\n",
    "paragraph = \"“从警28年，我的经历很简单，就是在一线做巡逻警员、冲锋队警员。”香港警务处新界南总区警署警长陈连生向《环球时报》记者回忆，1997年7月1日，刚进入警队3年的他在会场外做安保工作。“当时很开心，在很近的距离看漫天烟花。我们每人口袋里都准备了新帽徽，0点一到，指挥官一声命令，就很小心地将新帽徽安上。那一刻我真觉得自己是很完整、很真实的一个中国人！”\""
   ]
  },
  {
   "cell_type": "code",
   "execution_count": 47,
   "id": "ab4c3d60",
   "metadata": {},
   "outputs": [],
   "source": [
    "doc = nlp(paragraph)"
   ]
  },
  {
   "cell_type": "code",
   "execution_count": 48,
   "id": "3e52564f",
   "metadata": {},
   "outputs": [
    {
     "name": "stdout",
     "output_type": "stream",
     "text": [
      "比尔刚刚年满29岁，在此前结束的赛季中，受伤病困扰，他场均只得到23.\n",
      "2分4.7篮板6.6助攻。\n",
      "而在此之前的两个赛季中，他的场均得分均在30分以上。\n"
     ]
    }
   ],
   "source": [
    "# assert doc.has_annotation(\"SENT_START\")\n",
    "for sent in doc.sents:\n",
    "    print(sent.text)"
   ]
  },
  {
   "cell_type": "code",
   "execution_count": null,
   "id": "17f6a85e",
   "metadata": {},
   "outputs": [],
   "source": []
  },
  {
   "cell_type": "code",
   "execution_count": null,
   "id": "72673d36",
   "metadata": {},
   "outputs": [],
   "source": []
  },
  {
   "cell_type": "code",
   "execution_count": null,
   "id": "ea35d1aa",
   "metadata": {},
   "outputs": [],
   "source": []
  },
  {
   "cell_type": "code",
   "execution_count": null,
   "id": "d53b8d33",
   "metadata": {},
   "outputs": [],
   "source": []
  },
  {
   "cell_type": "code",
   "execution_count": null,
   "id": "92b0b971",
   "metadata": {},
   "outputs": [],
   "source": []
  },
  {
   "cell_type": "code",
   "execution_count": null,
   "id": "5fadc084",
   "metadata": {},
   "outputs": [],
   "source": []
  }
 ],
 "metadata": {
  "kernelspec": {
   "display_name": "Python 3 (ipykernel)",
   "language": "python",
   "name": "python3"
  },
  "language_info": {
   "codemirror_mode": {
    "name": "ipython",
    "version": 3
   },
   "file_extension": ".py",
   "mimetype": "text/x-python",
   "name": "python",
   "nbconvert_exporter": "python",
   "pygments_lexer": "ipython3",
   "version": "3.8.10"
  },
  "toc": {
   "base_numbering": 1,
   "nav_menu": {},
   "number_sections": true,
   "sideBar": true,
   "skip_h1_title": false,
   "title_cell": "Table of Contents",
   "title_sidebar": "Contents",
   "toc_cell": false,
   "toc_position": {},
   "toc_section_display": true,
   "toc_window_display": false
  },
  "varInspector": {
   "cols": {
    "lenName": 16,
    "lenType": 16,
    "lenVar": 40
   },
   "kernels_config": {
    "python": {
     "delete_cmd_postfix": "",
     "delete_cmd_prefix": "del ",
     "library": "var_list.py",
     "varRefreshCmd": "print(var_dic_list())"
    },
    "r": {
     "delete_cmd_postfix": ") ",
     "delete_cmd_prefix": "rm(",
     "library": "var_list.r",
     "varRefreshCmd": "cat(var_dic_list()) "
    }
   },
   "types_to_exclude": [
    "module",
    "function",
    "builtin_function_or_method",
    "instance",
    "_Feature"
   ],
   "window_display": false
  }
 },
 "nbformat": 4,
 "nbformat_minor": 5
}
